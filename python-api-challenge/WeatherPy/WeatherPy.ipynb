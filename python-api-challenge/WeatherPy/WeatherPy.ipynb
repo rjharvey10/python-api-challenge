{
 "cells": [
  {
   "cell_type": "markdown",
   "metadata": {},
   "source": [
    "# WeatherPy\n",
    "----\n",
    "\n",
    "#### Note\n",
    "* Instructions have been included for each segment. You do not have to follow them exactly, but they are included to help you think through the steps."
   ]
  },
  {
   "cell_type": "code",
   "execution_count": 1,
   "metadata": {
    "scrolled": true
   },
   "outputs": [],
   "source": [
    "#Three observable trends: 1. Latitude seems to be correlated only with temperature, while cloudiness and wind speed are not closely correlated to latitude\n",
    "#2. The max weather temps matched the current seasons (ie. winter in the northern hemisphere = colder temps for latitudes>0)\n",
    "#3. Humidity had a minor positive linear regression for the northern hemisphere, and slightly negative for the southern hemisphere\n",
    "\n",
    "\n",
    "# Dependencies and Setup\n",
    "import matplotlib.pyplot as plt\n",
    "import pandas as pd\n",
    "import numpy as np\n",
    "import requests\n",
    "import time\n",
    "import json\n",
    "from scipy.stats import linregress\n",
    "\n",
    "# Import API key\n",
    "from api_keys import weather_api_key\n",
    "\n",
    "# Incorporated citipy to determine city based on latitude and longitude\n",
    "from citipy import citipy\n",
    "\n",
    "# Output File (CSV)\n",
    "output_data_file = \"output_data/cities.csv\"\n",
    "\n",
    "# Range of latitudes and longitudes\n",
    "lat_range = (-90, 90)\n",
    "lng_range = (-180, 180)"
   ]
  },
  {
   "cell_type": "markdown",
   "metadata": {},
   "source": [
    "## Generate Cities List"
   ]
  },
  {
   "cell_type": "code",
   "execution_count": 2,
   "metadata": {},
   "outputs": [
    {
     "data": {
      "text/plain": [
       "617"
      ]
     },
     "execution_count": 2,
     "metadata": {},
     "output_type": "execute_result"
    }
   ],
   "source": [
    "# List for holding lat_lngs and cities\n",
    "lat_lngs = []\n",
    "cities = []\n",
    "\n",
    "# Create a set of random lat and lng combinations\n",
    "lats = np.random.uniform(lat_range[0], lat_range[1], size=1500)\n",
    "lngs = np.random.uniform(lng_range[0], lng_range[1], size=1500)\n",
    "lat_lngs = zip(lats, lngs)\n",
    "\n",
    "# Identify nearest city for each lat, lng combination\n",
    "for lat_lng in lat_lngs:\n",
    "    city = citipy.nearest_city(lat_lng[0], lat_lng[1]).city_name\n",
    "    \n",
    "    # If the city is unique, then add it to a our cities list\n",
    "    if city not in cities:\n",
    "        cities.append(city)\n",
    "\n",
    "# Print the city count to confirm sufficient count\n",
    "len(cities)"
   ]
  },
  {
   "cell_type": "code",
   "execution_count": 3,
   "metadata": {},
   "outputs": [
    {
     "data": {
      "text/html": [
       "<div>\n",
       "<style scoped>\n",
       "    .dataframe tbody tr th:only-of-type {\n",
       "        vertical-align: middle;\n",
       "    }\n",
       "\n",
       "    .dataframe tbody tr th {\n",
       "        vertical-align: top;\n",
       "    }\n",
       "\n",
       "    .dataframe thead th {\n",
       "        text-align: right;\n",
       "    }\n",
       "</style>\n",
       "<table border=\"1\" class=\"dataframe\">\n",
       "  <thead>\n",
       "    <tr style=\"text-align: right;\">\n",
       "      <th></th>\n",
       "      <th>City</th>\n",
       "      <th>Lat</th>\n",
       "      <th>Lng</th>\n",
       "      <th>Max Temp</th>\n",
       "      <th>Humidity</th>\n",
       "      <th>Cloudiness</th>\n",
       "      <th>Wind Speed</th>\n",
       "      <th>Country</th>\n",
       "      <th>Date</th>\n",
       "    </tr>\n",
       "  </thead>\n",
       "  <tbody>\n",
       "    <tr>\n",
       "      <th>0</th>\n",
       "      <td>goundam</td>\n",
       "      <td></td>\n",
       "      <td></td>\n",
       "      <td></td>\n",
       "      <td></td>\n",
       "      <td></td>\n",
       "      <td></td>\n",
       "      <td></td>\n",
       "      <td></td>\n",
       "    </tr>\n",
       "    <tr>\n",
       "      <th>1</th>\n",
       "      <td>castro</td>\n",
       "      <td></td>\n",
       "      <td></td>\n",
       "      <td></td>\n",
       "      <td></td>\n",
       "      <td></td>\n",
       "      <td></td>\n",
       "      <td></td>\n",
       "      <td></td>\n",
       "    </tr>\n",
       "    <tr>\n",
       "      <th>2</th>\n",
       "      <td>conceicao da barra</td>\n",
       "      <td></td>\n",
       "      <td></td>\n",
       "      <td></td>\n",
       "      <td></td>\n",
       "      <td></td>\n",
       "      <td></td>\n",
       "      <td></td>\n",
       "      <td></td>\n",
       "    </tr>\n",
       "    <tr>\n",
       "      <th>3</th>\n",
       "      <td>nouakchott</td>\n",
       "      <td></td>\n",
       "      <td></td>\n",
       "      <td></td>\n",
       "      <td></td>\n",
       "      <td></td>\n",
       "      <td></td>\n",
       "      <td></td>\n",
       "      <td></td>\n",
       "    </tr>\n",
       "    <tr>\n",
       "      <th>4</th>\n",
       "      <td>asfi</td>\n",
       "      <td></td>\n",
       "      <td></td>\n",
       "      <td></td>\n",
       "      <td></td>\n",
       "      <td></td>\n",
       "      <td></td>\n",
       "      <td></td>\n",
       "      <td></td>\n",
       "    </tr>\n",
       "  </tbody>\n",
       "</table>\n",
       "</div>"
      ],
      "text/plain": [
       "                 City Lat Lng Max Temp Humidity Cloudiness Wind Speed Country  \\\n",
       "0             goundam                                                           \n",
       "1              castro                                                           \n",
       "2  conceicao da barra                                                           \n",
       "3          nouakchott                                                           \n",
       "4                asfi                                                           \n",
       "\n",
       "  Date  \n",
       "0       \n",
       "1       \n",
       "2       \n",
       "3       \n",
       "4       "
      ]
     },
     "execution_count": 3,
     "metadata": {},
     "output_type": "execute_result"
    }
   ],
   "source": [
    "weather_df = pd.DataFrame({'City': cities, 'Lat': \"\", 'Lng':\"\", 'Max Temp': \"\", 'Humidity': \"\", 'Cloudiness': \"\", 'Wind Speed':\"\", 'Country': \"\", 'Date': \"\", })\n",
    "                           \n",
    "weather_df.head()"
   ]
  },
  {
   "cell_type": "code",
   "execution_count": 8,
   "metadata": {},
   "outputs": [],
   "source": [
    "num_tracker = 1 #counter to keep track and increment when/if needed\n",
    "set_tracker = 1\n",
    "\n",
    "url = 'http://api.openweathermap.org/data/2.5/weather?units=imperial&q='\n",
    "units =\"imperial\"\n"
   ]
  },
  {
   "cell_type": "code",
   "execution_count": 9,
   "metadata": {},
   "outputs": [
    {
     "ename": "SyntaxError",
     "evalue": "invalid syntax (Temp/ipykernel_14736/3578181094.py, line 2)",
     "output_type": "error",
     "traceback": [
      "\u001b[1;36m  File \u001b[1;32m\"C:\\Users\\rober\\AppData\\Local\\Temp/ipykernel_14736/3578181094.py\"\u001b[1;36m, line \u001b[1;32m2\u001b[0m\n\u001b[1;33m    * Perform a weather check on each city using a series of successive API calls.\u001b[0m\n\u001b[1;37m              ^\u001b[0m\n\u001b[1;31mSyntaxError\u001b[0m\u001b[1;31m:\u001b[0m invalid syntax\n"
     ]
    }
   ],
   "source": [
    "### Perform API Calls\n",
    "* Perform a weather check on each city using a series of successive API calls.\n",
    "* Include a print log of each city as it'sbeing processed (with the city number and city name).\n",
    "\n",
    "> **HINT:** The OpenWeatherMap API only allows 60 calls per minute under their free plan. Try using `time.sleep(60)` after each set of 50 cities to avoid API errors due to large calls."
   ]
  },
  {
   "cell_type": "code",
   "execution_count": 10,
   "metadata": {},
   "outputs": [
    {
     "name": "stdout",
     "output_type": "stream",
     "text": [
      "Processing...\n",
      "Processing Weather Data for Record 1 of Set 1 | Goundam\n",
      "Processing Weather Data for Record 2 of Set 1 | Castro\n",
      "Processing Weather Data for Record 3 of Set 1 | Conceição da Barra\n",
      "Processing Weather Data for Record 4 of Set 1 | Nouakchott\n",
      "Processing Weather Data for Record 5 of Set 1 | Safi\n",
      "Skipping, not found............\n",
      "Processing Weather Data for Record 6 of Set 1 | Punta Arenas\n",
      "Processing Weather Data for Record 7 of Set 1 | Bilibino\n",
      "Processing Weather Data for Record 8 of Set 1 | Hermanus\n",
      "Processing Weather Data for Record 9 of Set 1 | Camacha\n",
      "Processing Weather Data for Record 10 of Set 1 | Iqaluit\n",
      "Processing Weather Data for Record 11 of Set 1 | Muhafazat Lahij\n",
      "Processing Weather Data for Record 12 of Set 1 | Westport\n",
      "Processing Weather Data for Record 13 of Set 1 | Butaritari\n",
      "Processing Weather Data for Record 14 of Set 1 | Albany\n",
      "Processing Weather Data for Record 15 of Set 1 | Nikolskoye\n",
      "Processing Weather Data for Record 16 of Set 1 | Khatanga\n",
      "Processing Weather Data for Record 17 of Set 1 | Ribeira Grande\n",
      "Processing Weather Data for Record 18 of Set 1 | Port Alfred\n",
      "Skipping, not found............\n",
      "Processing Weather Data for Record 19 of Set 1 | Port Hardy\n",
      "Processing Weather Data for Record 20 of Set 1 | Cape Town\n",
      "Processing Weather Data for Record 21 of Set 1 | Nesterov\n",
      "Processing Weather Data for Record 22 of Set 1 | Hong Kong\n",
      "Processing Weather Data for Record 23 of Set 1 | Bluff\n",
      "Processing Weather Data for Record 24 of Set 1 | Oga\n",
      "Processing Weather Data for Record 25 of Set 1 | Orlik\n",
      "Skipping, not found............\n",
      "Processing Weather Data for Record 26 of Set 1 | Radzyń Podlaski\n",
      "Processing Weather Data for Record 27 of Set 1 | Paita\n",
      "Processing Weather Data for Record 28 of Set 1 | Rikitea\n",
      "Processing Weather Data for Record 29 of Set 1 | Saint George\n",
      "Processing Weather Data for Record 30 of Set 1 | Saint Paul Harbor\n",
      "Processing Weather Data for Record 31 of Set 1 | Diffa\n",
      "Processing Weather Data for Record 32 of Set 1 | Atuona\n",
      "Processing Weather Data for Record 33 of Set 1 | Saint-Philippe\n",
      "Processing Weather Data for Record 34 of Set 1 | Mahébourg\n",
      "Processing Weather Data for Record 35 of Set 1 | Bredasdorp\n",
      "Skipping, not found............\n",
      "Skipping, not found............\n",
      "Processing Weather Data for Record 36 of Set 1 | Ahipara\n",
      "Processing Weather Data for Record 37 of Set 1 | Aldan\n",
      "Processing Weather Data for Record 38 of Set 1 | Iberia\n",
      "Processing Weather Data for Record 39 of Set 1 | Portland\n",
      "Skipping, not found............\n",
      "Processing Weather Data for Record 40 of Set 1 | Puerto Ayora\n",
      "Processing Weather Data for Record 41 of Set 1 | Strelka\n",
      "Skipping, not found............\n",
      "Processing Weather Data for Record 42 of Set 1 | Mórrope\n",
      "Processing Weather Data for Record 43 of Set 1 | Alofi\n",
      "Processing Weather Data for Record 44 of Set 1 | Tiksi\n",
      "Processing Weather Data for Record 45 of Set 1 | Mataura\n",
      "Processing Weather Data for Record 46 of Set 1 | Kitakata\n",
      "Processing Weather Data for Record 47 of Set 1 | Loandjili\n",
      "Processing Weather Data for Record 48 of Set 1 | Vaini\n",
      "Processing Weather Data for Record 49 of Set 1 | Safakulevo\n",
      "Processing Weather Data for Record 50 of Set 1 | Imbituba\n",
      "Processing Weather Data for Record 1 of Set 2 | Jamestown\n",
      "Processing Weather Data for Record 2 of Set 2 | Ituberá\n",
      "Skipping, not found............\n",
      "Processing Weather Data for Record 3 of Set 2 | Klaksvík\n",
      "Processing Weather Data for Record 4 of Set 2 | Irituia\n",
      "Processing Weather Data for Record 5 of Set 2 | Big Bend\n",
      "Processing Weather Data for Record 6 of Set 2 | Domoni\n",
      "Processing Weather Data for Record 7 of Set 2 | Adrar\n",
      "Processing Weather Data for Record 8 of Set 2 | Aksu\n",
      "Processing Weather Data for Record 9 of Set 2 | Lorengau\n",
      "Processing Weather Data for Record 10 of Set 2 | Lebu\n",
      "Processing Weather Data for Record 11 of Set 2 | Kavieng\n",
      "Processing Weather Data for Record 12 of Set 2 | Uglegorsk\n",
      "Skipping, not found............\n",
      "Processing Weather Data for Record 13 of Set 2 | Alekseyevsk\n",
      "Processing Weather Data for Record 14 of Set 2 | Qaanaaq\n",
      "Processing Weather Data for Record 15 of Set 2 | Mossamedes\n",
      "Processing Weather Data for Record 16 of Set 2 | Kushima\n",
      "Processing Weather Data for Record 17 of Set 2 | Vila Franca do Campo\n",
      "Skipping, not found............\n",
      "Processing Weather Data for Record 18 of Set 2 | Thompson\n",
      "Skipping, not found............\n",
      "Processing Weather Data for Record 19 of Set 2 | Caravelas\n",
      "Processing Weather Data for Record 20 of Set 2 | Berlevåg\n",
      "Processing Weather Data for Record 21 of Set 2 | Marmora\n",
      "Processing Weather Data for Record 22 of Set 2 | Vatutine\n",
      "Processing Weather Data for Record 23 of Set 2 | Manzanillo\n",
      "Processing Weather Data for Record 24 of Set 2 | Taggia\n",
      "Processing Weather Data for Record 25 of Set 2 | Busselton\n",
      "Processing Weather Data for Record 26 of Set 2 | São Filipe\n",
      "Processing Weather Data for Record 27 of Set 2 | Longyan\n",
      "Skipping, not found............\n",
      "Processing Weather Data for Record 28 of Set 2 | Myitkyina\n",
      "Processing Weather Data for Record 29 of Set 2 | Airai\n",
      "Skipping, not found............\n",
      "Processing Weather Data for Record 30 of Set 2 | Hambantota\n",
      "Processing Weather Data for Record 31 of Set 2 | Lompoc\n",
      "Processing Weather Data for Record 32 of Set 2 | Tilichiki\n",
      "Processing Weather Data for Record 33 of Set 2 | Novouzensk\n",
      "Processing Weather Data for Record 34 of Set 2 | Dikson\n",
      "Processing Weather Data for Record 35 of Set 2 | Cherskiy\n",
      "Processing Weather Data for Record 36 of Set 2 | San Cristobal\n",
      "Processing Weather Data for Record 37 of Set 2 | Fushun\n",
      "Processing Weather Data for Record 38 of Set 2 | Tarata\n",
      "Processing Weather Data for Record 39 of Set 2 | Cotonou\n",
      "Processing Weather Data for Record 40 of Set 2 | Bahía Blanca\n",
      "Skipping, not found............\n",
      "Processing Weather Data for Record 41 of Set 2 | Zagora\n",
      "Processing Weather Data for Record 42 of Set 2 | Egvekinot\n",
      "Processing Weather Data for Record 43 of Set 2 | Talnakh\n",
      "Processing Weather Data for Record 44 of Set 2 | Esmeraldas\n",
      "Processing Weather Data for Record 45 of Set 2 | Taoudenni\n",
      "Processing Weather Data for Record 46 of Set 2 | Goma\n",
      "Processing Weather Data for Record 47 of Set 2 | Kaitangata\n",
      "Processing Weather Data for Record 48 of Set 2 | Zatoka\n",
      "Skipping, not found............\n",
      "Processing Weather Data for Record 49 of Set 2 | Fortuna\n",
      "Processing Weather Data for Record 50 of Set 2 | Denpasar\n",
      "Skipping, not found............\n",
      "Processing Weather Data for Record 1 of Set 3 | Shingū\n",
      "Processing Weather Data for Record 2 of Set 3 | Hithadhoo\n",
      "Processing Weather Data for Record 3 of Set 3 | Hilo\n",
      "Processing Weather Data for Record 4 of Set 3 | Rawson\n",
      "Processing Weather Data for Record 5 of Set 3 | Sidi Ali\n",
      "Processing Weather Data for Record 6 of Set 3 | Port Alberni\n",
      "Processing Weather Data for Record 7 of Set 3 | Kuito\n",
      "Processing Weather Data for Record 8 of Set 3 | Barrow\n",
      "Processing Weather Data for Record 9 of Set 3 | Zevio\n",
      "Skipping, not found............\n",
      "Processing Weather Data for Record 10 of Set 3 | Vardø\n",
      "Processing Weather Data for Record 11 of Set 3 | Kirksville\n",
      "Processing Weather Data for Record 12 of Set 3 | Norman Wells\n",
      "Processing Weather Data for Record 13 of Set 3 | Ushuaia\n",
      "Processing Weather Data for Record 14 of Set 3 | Guarapari\n",
      "Processing Weather Data for Record 15 of Set 3 | Vysoké Mýto\n",
      "Processing Weather Data for Record 16 of Set 3 | Tamisan\n",
      "Processing Weather Data for Record 17 of Set 3 | Port Shepstone\n",
      "Processing Weather Data for Record 18 of Set 3 | Hobart\n",
      "Processing Weather Data for Record 19 of Set 3 | Nizwá\n",
      "Processing Weather Data for Record 20 of Set 3 | Margate\n",
      "Processing Weather Data for Record 21 of Set 3 | Talakan\n",
      "Skipping, not found............\n",
      "Processing Weather Data for Record 22 of Set 3 | Lizzano\n",
      "Processing Weather Data for Record 23 of Set 3 | George Town\n",
      "Processing Weather Data for Record 24 of Set 3 | Yellowknife\n",
      "Processing Weather Data for Record 25 of Set 3 | Allāpalli\n",
      "Processing Weather Data for Record 26 of Set 3 | Coquimbo\n",
      "Processing Weather Data for Record 27 of Set 3 | Puri\n",
      "Processing Weather Data for Record 28 of Set 3 | Raja\n",
      "Processing Weather Data for Record 29 of Set 3 | Jinchang\n",
      "Processing Weather Data for Record 30 of Set 3 | Isangel\n",
      "Processing Weather Data for Record 31 of Set 3 | Katsuura\n",
      "Skipping, not found............\n",
      "Processing Weather Data for Record 32 of Set 3 | Guerrero Negro\n",
      "Processing Weather Data for Record 33 of Set 3 | Uturoa\n",
      "Processing Weather Data for Record 34 of Set 3 | Bathsheba\n",
      "Processing Weather Data for Record 35 of Set 3 | Beringovskiy\n",
      "Processing Weather Data for Record 36 of Set 3 | Dryden\n",
      "Processing Weather Data for Record 37 of Set 3 | Chittarkonda\n",
      "Processing Weather Data for Record 38 of Set 3 | Upernavik\n",
      "Processing Weather Data for Record 39 of Set 3 | Nabire\n",
      "Processing Weather Data for Record 40 of Set 3 | Primorskiy\n",
      "Processing Weather Data for Record 41 of Set 3 | Kahului\n",
      "Processing Weather Data for Record 42 of Set 3 | Mar del Plata\n",
      "Processing Weather Data for Record 43 of Set 3 | Plauen\n",
      "Skipping, not found............\n",
      "Processing Weather Data for Record 44 of Set 3 | Mathbaria\n",
      "Processing Weather Data for Record 45 of Set 3 | New Norfolk\n",
      "Processing Weather Data for Record 46 of Set 3 | Roald\n",
      "Processing Weather Data for Record 47 of Set 3 | Longyearbyen\n",
      "Processing Weather Data for Record 48 of Set 3 | Cockburn Town\n",
      "Processing Weather Data for Record 49 of Set 3 | Cabo San Lucas\n",
      "Processing Weather Data for Record 50 of Set 3 | Arraial do Cabo\n",
      "Processing Weather Data for Record 1 of Set 4 | Kupang\n",
      "Skipping, not found............\n",
      "Processing Weather Data for Record 2 of Set 4 | Aklavik\n",
      "Processing Weather Data for Record 3 of Set 4 | Kieta\n",
      "Processing Weather Data for Record 4 of Set 4 | Fayaoué\n",
      "Skipping, not found............\n",
      "Skipping, not found............\n",
      "Processing Weather Data for Record 5 of Set 4 | Ust-Nera\n",
      "Processing Weather Data for Record 6 of Set 4 | Laguna\n",
      "Processing Weather Data for Record 7 of Set 4 | Nanortalik\n",
      "Processing Weather Data for Record 8 of Set 4 | Tatarsk\n",
      "Skipping, not found............\n",
      "Processing Weather Data for Record 9 of Set 4 | Northam\n",
      "Skipping, not found............\n",
      "Processing Weather Data for Record 10 of Set 4 | Rio Tuba\n",
      "Processing Weather Data for Record 11 of Set 4 | Caxito\n",
      "Processing Weather Data for Record 12 of Set 4 | Deputatsky\n",
      "Processing Weather Data for Record 13 of Set 4 | Tura\n",
      "Processing Weather Data for Record 14 of Set 4 | Kenai\n",
      "Processing Weather Data for Record 15 of Set 4 | Severnyy\n",
      "Processing Weather Data for Record 16 of Set 4 | Itoman\n",
      "Processing Weather Data for Record 17 of Set 4 | Owando\n",
      "Processing Weather Data for Record 18 of Set 4 | Avarua\n",
      "Processing Weather Data for Record 19 of Set 4 | Benavente\n",
      "Processing Weather Data for Record 20 of Set 4 | Touros\n",
      "Processing Weather Data for Record 21 of Set 4 | La Mira\n",
      "Processing Weather Data for Record 22 of Set 4 | Bambanglipuro\n",
      "Processing Weather Data for Record 23 of Set 4 | Mayo\n",
      "Processing Weather Data for Record 24 of Set 4 | Dingle\n",
      "Processing Weather Data for Record 25 of Set 4 | Bousso\n",
      "Processing Weather Data for Record 26 of Set 4 | Muros\n",
      "Processing Weather Data for Record 27 of Set 4 | Rāvar\n",
      "Processing Weather Data for Record 28 of Set 4 | Lodja\n",
      "Processing Weather Data for Record 29 of Set 4 | Sept-Îles\n",
      "Skipping, not found............\n",
      "Processing Weather Data for Record 30 of Set 4 | Bangassou\n",
      "Processing Weather Data for Record 31 of Set 4 | Kapaa\n",
      "Processing Weather Data for Record 32 of Set 4 | Ōzu\n",
      "Processing Weather Data for Record 33 of Set 4 | Bone\n",
      "Processing Weather Data for Record 34 of Set 4 | Grindavik\n",
      "Processing Weather Data for Record 35 of Set 4 | Chui\n",
      "Processing Weather Data for Record 36 of Set 4 | Macaé\n",
      "Processing Weather Data for Record 37 of Set 4 | Bengkulu\n",
      "Processing Weather Data for Record 38 of Set 4 | Tuktoyaktuk\n",
      "Processing Weather Data for Record 39 of Set 4 | Aitape\n",
      "Processing Weather Data for Record 40 of Set 4 | Santarém\n",
      "Processing Weather Data for Record 41 of Set 4 | Darhan\n",
      "Processing Weather Data for Record 42 of Set 4 | Souillac\n",
      "Skipping, not found............\n",
      "Processing Weather Data for Record 43 of Set 4 | Maridi\n",
      "Processing Weather Data for Record 44 of Set 4 | Morondava\n",
      "Processing Weather Data for Record 45 of Set 4 | Juruti\n",
      "Processing Weather Data for Record 46 of Set 4 | Lüderitz\n",
      "Processing Weather Data for Record 47 of Set 4 | Puerto Nariño\n",
      "Skipping, not found............\n",
      "Processing Weather Data for Record 48 of Set 4 | Baraboo\n",
      "Processing Weather Data for Record 49 of Set 4 | Ndélé\n",
      "Skipping, not found............\n",
      "Processing Weather Data for Record 50 of Set 4 | Petropavlovsk-Kamchatskiy\n",
      "Processing Weather Data for Record 1 of Set 5 | Dicabisagan\n",
      "Processing Weather Data for Record 2 of Set 5 | Ancud\n",
      "Processing Weather Data for Record 3 of Set 5 | Naze\n",
      "Processing Weather Data for Record 4 of Set 5 | Balgazyn\n",
      "Processing Weather Data for Record 5 of Set 5 | Stromness\n",
      "Processing Weather Data for Record 6 of Set 5 | Manuk Mangkaw\n",
      "Processing Weather Data for Record 7 of Set 5 | Rocha\n",
      "Processing Weather Data for Record 8 of Set 5 | Bloemfontein\n",
      "Processing Weather Data for Record 9 of Set 5 | Bambous Virieux\n",
      "Processing Weather Data for Record 10 of Set 5 | Ozinki\n",
      "Skipping, not found............\n",
      "Processing Weather Data for Record 11 of Set 5 | Hofn\n",
      "Processing Weather Data for Record 12 of Set 5 | Sisimiut\n",
      "Processing Weather Data for Record 13 of Set 5 | General Pico\n",
      "Processing Weather Data for Record 14 of Set 5 | Port Elizabeth\n",
      "Processing Weather Data for Record 15 of Set 5 | Mareeba\n",
      "Processing Weather Data for Record 16 of Set 5 | Severo-Kuril'sk\n",
      "Processing Weather Data for Record 17 of Set 5 | Kununurra\n",
      "Processing Weather Data for Record 18 of Set 5 | Kashgar\n",
      "Processing Weather Data for Record 19 of Set 5 | Flinders\n",
      "Processing Weather Data for Record 20 of Set 5 | Pacific Grove\n",
      "Processing Weather Data for Record 21 of Set 5 | Marsh Harbour\n",
      "Processing Weather Data for Record 22 of Set 5 | Elk City\n",
      "Processing Weather Data for Record 23 of Set 5 | Nemchinovka\n",
      "Processing Weather Data for Record 24 of Set 5 | Pingliang\n",
      "Processing Weather Data for Record 25 of Set 5 | Ashgabat\n",
      "Processing Weather Data for Record 26 of Set 5 | Sainte-Marie\n",
      "Processing Weather Data for Record 27 of Set 5 | Zhigansk\n",
      "Skipping, not found............\n",
      "Processing Weather Data for Record 28 of Set 5 | Marystown\n",
      "Processing Weather Data for Record 29 of Set 5 | Oddur\n",
      "Processing Weather Data for Record 30 of Set 5 | Departamento de Maldonado\n",
      "Processing Weather Data for Record 31 of Set 5 | Honningsvåg\n",
      "Processing Weather Data for Record 32 of Set 5 | Chokurdakh\n",
      "Processing Weather Data for Record 33 of Set 5 | Kamaishi\n",
      "Processing Weather Data for Record 34 of Set 5 | Pevek\n",
      "Processing Weather Data for Record 35 of Set 5 | Srednekolymsk\n",
      "Processing Weather Data for Record 36 of Set 5 | Örebro\n",
      "Processing Weather Data for Record 37 of Set 5 | Pizarro\n",
      "Processing Weather Data for Record 38 of Set 5 | Sayyan\n",
      "Processing Weather Data for Record 39 of Set 5 | Riyadh\n",
      "Processing Weather Data for Record 40 of Set 5 | Mount Isa\n",
      "Processing Weather Data for Record 41 of Set 5 | Kudahuvadhoo\n",
      "Processing Weather Data for Record 42 of Set 5 | Ust-Tsilma\n",
      "Processing Weather Data for Record 43 of Set 5 | Vila Velha\n",
      "Skipping, not found............\n",
      "Processing Weather Data for Record 44 of Set 5 | Kisangani\n",
      "Processing Weather Data for Record 45 of Set 5 | Constitución\n",
      "Skipping, not found............\n",
      "Processing Weather Data for Record 46 of Set 5 | Ilulissat\n",
      "Processing Weather Data for Record 47 of Set 5 | Moate\n",
      "Processing Weather Data for Record 48 of Set 5 | Port Macquarie\n",
      "Processing Weather Data for Record 49 of Set 5 | Belle Glade\n",
      "Processing Weather Data for Record 50 of Set 5 | Karpogory\n",
      "Processing Weather Data for Record 1 of Set 6 | Antofagasta\n",
      "Processing Weather Data for Record 2 of Set 6 | Nishihara\n",
      "Processing Weather Data for Record 3 of Set 6 | Saint Anthony\n",
      "Processing Weather Data for Record 4 of Set 6 | Manavgat\n",
      "Processing Weather Data for Record 5 of Set 6 | Bukama\n",
      "Processing Weather Data for Record 6 of Set 6 | Maneromango\n",
      "Processing Weather Data for Record 7 of Set 6 | Lufilufi\n",
      "Processing Weather Data for Record 8 of Set 6 | Buchanan\n",
      "Processing Weather Data for Record 9 of Set 6 | Ketchikan\n",
      "Processing Weather Data for Record 10 of Set 6 | Carnarvon\n",
      "Processing Weather Data for Record 11 of Set 6 | Caçador\n",
      "Processing Weather Data for Record 12 of Set 6 | Vieste\n",
      "Processing Weather Data for Record 13 of Set 6 | Winnemucca\n",
      "Processing Weather Data for Record 14 of Set 6 | Narsaq\n",
      "Processing Weather Data for Record 15 of Set 6 | Saskylakh\n",
      "Processing Weather Data for Record 16 of Set 6 | Bartoszyce\n",
      "Processing Weather Data for Record 17 of Set 6 | Raudeberg\n",
      "Processing Weather Data for Record 18 of Set 6 | Kokoda\n",
      "Processing Weather Data for Record 19 of Set 6 | Bariloche\n",
      "Processing Weather Data for Record 20 of Set 6 | Yamada\n",
      "Processing Weather Data for Record 21 of Set 6 | Kavaratti\n",
      "Processing Weather Data for Record 22 of Set 6 | Boizenburg\n",
      "Processing Weather Data for Record 23 of Set 6 | Poum\n",
      "Processing Weather Data for Record 24 of Set 6 | Rundu\n",
      "Processing Weather Data for Record 25 of Set 6 | San Patricio\n",
      "Skipping, not found............\n",
      "Processing Weather Data for Record 26 of Set 6 | Lethem\n",
      "Processing Weather Data for Record 27 of Set 6 | Bilma\n",
      "Processing Weather Data for Record 28 of Set 6 | Arlit\n",
      "Processing Weather Data for Record 29 of Set 6 | Safranbolu\n",
      "Processing Weather Data for Record 30 of Set 6 | Durango\n",
      "Processing Weather Data for Record 31 of Set 6 | Henties Bay\n",
      "Processing Weather Data for Record 32 of Set 6 | Thyborøn\n",
      "Processing Weather Data for Record 33 of Set 6 | Kondagaon\n",
      "Processing Weather Data for Record 34 of Set 6 | Pottsville\n",
      "Processing Weather Data for Record 35 of Set 6 | Nome\n",
      "Processing Weather Data for Record 36 of Set 6 | Sidrolândia\n",
      "Processing Weather Data for Record 37 of Set 6 | Ivdel'\n",
      "Processing Weather Data for Record 38 of Set 6 | Sørland\n",
      "Processing Weather Data for Record 39 of Set 6 | Port Lincoln\n",
      "Processing Weather Data for Record 40 of Set 6 | Codrington\n",
      "Processing Weather Data for Record 41 of Set 6 | Kaeo\n",
      "Processing Weather Data for Record 42 of Set 6 | Tafresh\n",
      "Processing Weather Data for Record 43 of Set 6 | Black River\n",
      "Processing Weather Data for Record 44 of Set 6 | São João da Barra\n",
      "Processing Weather Data for Record 45 of Set 6 | Yangi Marg`ilon\n",
      "Processing Weather Data for Record 46 of Set 6 | Bauchi\n",
      "Processing Weather Data for Record 47 of Set 6 | Kiama\n",
      "Processing Weather Data for Record 48 of Set 6 | Tiznit Province\n",
      "Skipping, not found............\n",
      "Processing Weather Data for Record 49 of Set 6 | Srinagar\n",
      "Processing Weather Data for Record 50 of Set 6 | Ballina\n",
      "Processing Weather Data for Record 1 of Set 7 | Dakar\n",
      "Processing Weather Data for Record 2 of Set 7 | Tasiilaq\n",
      "Processing Weather Data for Record 3 of Set 7 | Lázaro Cárdenas\n",
      "Processing Weather Data for Record 4 of Set 7 | Palmer\n",
      "Processing Weather Data for Record 5 of Set 7 | Pingzhuang\n",
      "Skipping, not found............\n",
      "Processing Weather Data for Record 6 of Set 7 | Birjand\n",
      "Processing Weather Data for Record 7 of Set 7 | Leningradskiy\n",
      "Processing Weather Data for Record 8 of Set 7 | Torbay\n",
      "Processing Weather Data for Record 9 of Set 7 | Osa\n",
      "Processing Weather Data for Record 10 of Set 7 | Yershichi\n",
      "Processing Weather Data for Record 11 of Set 7 | Gornopravdinsk\n",
      "Processing Weather Data for Record 12 of Set 7 | Geraldton\n",
      "Processing Weather Data for Record 13 of Set 7 | Pozo Colorado\n",
      "Processing Weather Data for Record 14 of Set 7 | Novobiryusinskiy\n",
      "Processing Weather Data for Record 15 of Set 7 | Sanchazi\n",
      "Processing Weather Data for Record 16 of Set 7 | Mackay\n",
      "Processing Weather Data for Record 17 of Set 7 | Bethel\n",
      "Processing Weather Data for Record 18 of Set 7 | Kaihua\n",
      "Processing Weather Data for Record 19 of Set 7 | Lipari\n",
      "Processing Weather Data for Record 20 of Set 7 | Karlstad\n",
      "Processing Weather Data for Record 21 of Set 7 | Turukhansk\n",
      "Processing Weather Data for Record 22 of Set 7 | Fuyang\n",
      "Processing Weather Data for Record 23 of Set 7 | Padang\n",
      "Processing Weather Data for Record 24 of Set 7 | Los Llanos de Aridane\n",
      "Processing Weather Data for Record 25 of Set 7 | Yugorsk\n",
      "Processing Weather Data for Record 26 of Set 7 | Amapá\n",
      "Processing Weather Data for Record 27 of Set 7 | Port Augusta\n",
      "Processing Weather Data for Record 28 of Set 7 | Burē\n",
      "Skipping, not found............\n",
      "Processing Weather Data for Record 29 of Set 7 | Labuan\n",
      "Processing Weather Data for Record 30 of Set 7 | Areosa\n",
      "Processing Weather Data for Record 31 of Set 7 | Kurtamysh\n",
      "Processing Weather Data for Record 32 of Set 7 | Périgueux\n",
      "Processing Weather Data for Record 33 of Set 7 | Hasaki\n",
      "Skipping, not found............\n",
      "Processing Weather Data for Record 34 of Set 7 | Norden\n",
      "Processing Weather Data for Record 35 of Set 7 | Nānākuli\n",
      "Processing Weather Data for Record 36 of Set 7 | Muhos\n",
      "Processing Weather Data for Record 37 of Set 7 | Caucaia\n",
      "Processing Weather Data for Record 38 of Set 7 | Pangnirtung\n",
      "Processing Weather Data for Record 39 of Set 7 | Verkhnyaya Inta\n",
      "Processing Weather Data for Record 40 of Set 7 | Álamos\n",
      "Processing Weather Data for Record 41 of Set 7 | Rovaniemi\n",
      "Processing Weather Data for Record 42 of Set 7 | Kitui\n",
      "Skipping, not found............\n",
      "Processing Weather Data for Record 43 of Set 7 | Mishelevka\n",
      "Processing Weather Data for Record 44 of Set 7 | Honiara\n",
      "Skipping, not found............\n",
      "Processing Weather Data for Record 45 of Set 7 | Tuatapere\n",
      "Processing Weather Data for Record 46 of Set 7 | Mananjary\n",
      "Processing Weather Data for Record 47 of Set 7 | Sola\n",
      "Skipping, not found............\n",
      "Processing Weather Data for Record 48 of Set 7 | Gort\n",
      "Processing Weather Data for Record 49 of Set 7 | Salalah\n",
      "Processing Weather Data for Record 50 of Set 7 | Phalombe\n",
      "Processing Weather Data for Record 1 of Set 8 | Brownsville\n",
      "Processing Weather Data for Record 2 of Set 8 | Olafsvik\n",
      "Processing Weather Data for Record 3 of Set 8 | Inhambane\n",
      "Processing Weather Data for Record 4 of Set 8 | Vaitape\n",
      "Processing Weather Data for Record 5 of Set 8 | Linjiang\n",
      "Processing Weather Data for Record 6 of Set 8 | Tingi\n",
      "Processing Weather Data for Record 7 of Set 8 | Kushmurun\n",
      "Processing Weather Data for Record 8 of Set 8 | Ambon City\n",
      "Processing Weather Data for Record 9 of Set 8 | Kailua\n",
      "Processing Weather Data for Record 10 of Set 8 | Sarāhan\n",
      "Processing Weather Data for Record 11 of Set 8 | Chingirlau\n",
      "Processing Weather Data for Record 12 of Set 8 | Kousséri\n",
      "Processing Weather Data for Record 13 of Set 8 | Kutum\n",
      "Processing Weather Data for Record 14 of Set 8 | Boda\n",
      "Processing Weather Data for Record 15 of Set 8 | Tacuarembó\n",
      "Processing Weather Data for Record 16 of Set 8 | Vilyuysk\n",
      "Processing Weather Data for Record 17 of Set 8 | Bras-Panon\n",
      "Processing Weather Data for Record 18 of Set 8 | Nouadhibou\n",
      "Processing Weather Data for Record 19 of Set 8 | Chapais\n",
      "Processing Weather Data for Record 20 of Set 8 | Quirinópolis\n",
      "Processing Weather Data for Record 21 of Set 8 | Gonaïves\n",
      "Processing Weather Data for Record 22 of Set 8 | Voznesen'ye\n",
      "Processing Weather Data for Record 23 of Set 8 | Purificación\n",
      "Processing Weather Data for Record 24 of Set 8 | Lukaya\n",
      "Processing Weather Data for Record 25 of Set 8 | Mandalgovi\n",
      "Processing Weather Data for Record 26 of Set 8 | Vanimo\n",
      "Processing Weather Data for Record 27 of Set 8 | Tolaga Bay\n",
      "Processing Weather Data for Record 28 of Set 8 | Tautira\n",
      "Processing Weather Data for Record 29 of Set 8 | Cidreira\n",
      "Processing Weather Data for Record 30 of Set 8 | Abu Samrah\n",
      "Processing Weather Data for Record 31 of Set 8 | Road Town\n",
      "Processing Weather Data for Record 32 of Set 8 | Takoradze\n",
      "Processing Weather Data for Record 33 of Set 8 | San Carlos\n",
      "Skipping, not found............\n",
      "Processing Weather Data for Record 34 of Set 8 | Den Helder\n",
      "Processing Weather Data for Record 35 of Set 8 | Bay City\n",
      "Processing Weather Data for Record 36 of Set 8 | Mbamba\n",
      "Processing Weather Data for Record 37 of Set 8 | Uyovu\n",
      "Processing Weather Data for Record 38 of Set 8 | Sal Rei\n",
      "Processing Weather Data for Record 39 of Set 8 | East London\n",
      "Processing Weather Data for Record 40 of Set 8 | Ambilobe\n",
      "Skipping, not found............\n",
      "Processing Weather Data for Record 41 of Set 8 | Cap Malheureux\n",
      "Processing Weather Data for Record 42 of Set 8 | Luleå\n",
      "Processing Weather Data for Record 43 of Set 8 | Narrabri\n",
      "Processing Weather Data for Record 44 of Set 8 | Rosetown\n",
      "Processing Weather Data for Record 45 of Set 8 | Lusambo\n",
      "Processing Weather Data for Record 46 of Set 8 | Khovu-Aksy\n",
      "Processing Weather Data for Record 47 of Set 8 | Mnogovershinnyy\n",
      "Processing Weather Data for Record 48 of Set 8 | Fairbanks\n",
      "Processing Weather Data for Record 49 of Set 8 | Mogadishu\n",
      "Processing Weather Data for Record 50 of Set 8 | Abu Kamal\n",
      "Processing Weather Data for Record 1 of Set 9 | Gravdal\n",
      "Processing Weather Data for Record 2 of Set 9 | Tabou\n",
      "Processing Weather Data for Record 3 of Set 9 | La Ronge\n",
      "Processing Weather Data for Record 4 of Set 9 | High Rock\n",
      "Processing Weather Data for Record 5 of Set 9 | Marsá Maţrūḩ\n",
      "Processing Weather Data for Record 6 of Set 9 | Sambava\n",
      "Processing Weather Data for Record 7 of Set 9 | Aripuanã\n",
      "Processing Weather Data for Record 8 of Set 9 | Mokhsogollokh\n",
      "Processing Weather Data for Record 9 of Set 9 | State College\n",
      "Processing Weather Data for Record 10 of Set 9 | Kargasok\n",
      "Processing Weather Data for Record 11 of Set 9 | Saint-Joseph\n",
      "Processing Weather Data for Record 12 of Set 9 | Tsimmerbude\n",
      "Processing Weather Data for Record 13 of Set 9 | Kaberamaido\n",
      "Processing Weather Data for Record 14 of Set 9 | Gigmoto\n",
      "Skipping, not found............\n",
      "Processing Weather Data for Record 15 of Set 9 | Yumen\n",
      "Processing Weather Data for Record 16 of Set 9 | Brae\n",
      "Processing Weather Data for Record 17 of Set 9 | Blackfoot\n",
      "Skipping, not found............\n",
      "Processing Weather Data for Record 18 of Set 9 | North Bend\n",
      "Processing Weather Data for Record 19 of Set 9 | Wattegama\n",
      "Processing Weather Data for Record 20 of Set 9 | Astorga\n",
      "Processing Weather Data for Record 21 of Set 9 | Uray\n",
      "Processing Weather Data for Record 22 of Set 9 | De Aar\n",
      "Processing Weather Data for Record 23 of Set 9 | Uyuni\n",
      "Processing Weather Data for Record 24 of Set 9 | Pemangkat\n",
      "Processing Weather Data for Record 25 of Set 9 | Baykit\n",
      "Processing Weather Data for Record 26 of Set 9 | Oodweyne\n",
      "Processing Weather Data for Record 27 of Set 9 | Kropotkin\n",
      "Processing Weather Data for Record 28 of Set 9 | Korla\n",
      "Processing Weather Data for Record 29 of Set 9 | Ndola\n",
      "Processing Weather Data for Record 30 of Set 9 | Broken Hill\n",
      "Processing Weather Data for Record 31 of Set 9 | Broome\n",
      "Processing Weather Data for Record 32 of Set 9 | Kumul\n",
      "Processing Weather Data for Record 33 of Set 9 | Comodoro Rivadavia\n",
      "Processing Weather Data for Record 34 of Set 9 | Arkadelphia\n",
      "Processing Weather Data for Record 35 of Set 9 | Faanui\n",
      "Processing Weather Data for Record 36 of Set 9 | Asău\n",
      "Processing Weather Data for Record 37 of Set 9 | Leshan\n",
      "Processing Weather Data for Record 38 of Set 9 | Alice Springs\n",
      "Skipping, not found............\n",
      "Processing Weather Data for Record 39 of Set 9 | Quatre Cocos\n",
      "Processing Weather Data for Record 40 of Set 9 | Meulaboh\n",
      "Processing Weather Data for Record 41 of Set 9 | Thinadhoo\n",
      "Processing Weather Data for Record 42 of Set 9 | Pedernales\n",
      "Processing Weather Data for Record 43 of Set 9 | Ihosy\n",
      "Skipping, not found............\n",
      "Processing Weather Data for Record 44 of Set 9 | Amambai\n",
      "Skipping, not found............\n",
      "Processing Weather Data for Record 45 of Set 9 | Moba\n",
      "Processing Weather Data for Record 46 of Set 9 | Ukrayinka\n",
      "Processing Weather Data for Record 47 of Set 9 | Noumea\n",
      "Processing Weather Data for Record 48 of Set 9 | Ucluelet\n",
      "Processing Weather Data for Record 49 of Set 9 | Pulaski\n",
      "Processing Weather Data for Record 50 of Set 9 | Omsukchan\n",
      "Processing Weather Data for Record 1 of Set 10 | Liverpool\n",
      "Processing Weather Data for Record 2 of Set 10 | Port Hedland\n",
      "Skipping, not found............\n",
      "Processing Weather Data for Record 3 of Set 10 | Venado Tuerto\n",
      "Skipping, not found............\n",
      "Skipping, not found............\n",
      "Processing Weather Data for Record 4 of Set 10 | Nizhniy Odes\n",
      "Processing Weather Data for Record 5 of Set 10 | Aranda de Duero\n",
      "Processing Weather Data for Record 6 of Set 10 | Iwanai\n",
      "Skipping, not found............\n",
      "Skipping, not found............\n",
      "Processing Weather Data for Record 7 of Set 10 | Moussoro\n",
      "Processing Weather Data for Record 8 of Set 10 | Khovd\n",
      "Processing Weather Data for Record 9 of Set 10 | Beyneu\n",
      "Processing Weather Data for Record 10 of Set 10 | Grand Baie\n",
      "Processing Weather Data for Record 11 of Set 10 | Superior\n",
      "Processing Weather Data for Record 12 of Set 10 | Kangaatsiaq\n",
      "Processing Weather Data for Record 13 of Set 10 | Pisco\n",
      "Processing Weather Data for Record 14 of Set 10 | Magadan\n",
      "Processing Weather Data for Record 15 of Set 10 | Zyryanka\n",
      "Processing Weather Data for Record 16 of Set 10 | Wasilla\n",
      "Processing Weather Data for Record 17 of Set 10 | Sitka\n",
      "Processing Weather Data for Record 18 of Set 10 | Nizhnyaya Salda\n",
      "Processing Weather Data for Record 19 of Set 10 | Junín\n",
      "Processing Weather Data for Record 20 of Set 10 | Villa Vicente Guerrero\n",
      "Processing Weather Data for Record 21 of Set 10 | Coahuayana Viejo\n",
      "Processing Weather Data for Record 22 of Set 10 | Fauske\n",
      "Processing Weather Data for Record 23 of Set 10 | Ulaanbaatar\n",
      "Processing Weather Data for Record 24 of Set 10 | Werda\n",
      "Processing Weather Data for Record 25 of Set 10 | Mweka\n",
      "Processing Weather Data for Record 26 of Set 10 | Coos Bay\n",
      "Processing Weather Data for Record 27 of Set 10 | Melfi\n",
      "Processing Weather Data for Record 28 of Set 10 | Salinas\n",
      "Processing Weather Data for Record 29 of Set 10 | Porto Walter\n",
      "Processing Weather Data for Record 30 of Set 10 | Lábrea\n",
      "Processing Weather Data for Record 31 of Set 10 | Ankang\n",
      "Processing Weather Data for Record 32 of Set 10 | Provideniya\n",
      "Processing Weather Data for Record 33 of Set 10 | Smithers\n",
      "Processing Weather Data for Record 34 of Set 10 | Río Gallegos\n",
      "Processing Weather Data for Record 35 of Set 10 | Bloomfield\n",
      "Processing Weather Data for Record 36 of Set 10 | Punta Umbría\n",
      "Processing Weather Data for Record 37 of Set 10 | Copiapó\n",
      "Processing Weather Data for Record 38 of Set 10 | Belmonte\n",
      "Skipping, not found............\n",
      "Processing Weather Data for Record 39 of Set 10 | Vilhena\n",
      "Processing Weather Data for Record 40 of Set 10 | Vernon\n",
      "Processing Weather Data for Record 41 of Set 10 | Mana\n",
      "Processing Weather Data for Record 42 of Set 10 | Almaznyy\n",
      "Processing Weather Data for Record 43 of Set 10 | Shimoda\n",
      "Processing Weather Data for Record 44 of Set 10 | Amahai\n",
      "Processing Weather Data for Record 45 of Set 10 | Kemijärvi\n",
      "Processing Weather Data for Record 46 of Set 10 | Mookane\n",
      "Processing Weather Data for Record 47 of Set 10 | Dodge City\n",
      "Skipping, not found............\n",
      "Processing Weather Data for Record 48 of Set 10 | Koulamoutou\n",
      "Processing Weather Data for Record 49 of Set 10 | Fort Saint James\n",
      "Processing Weather Data for Record 50 of Set 10 | Esperance\n",
      "Processing Weather Data for Record 1 of Set 11 | Goderich\n",
      "Processing Weather Data for Record 2 of Set 11 | Marsaxlokk\n",
      "Processing Weather Data for Record 3 of Set 11 | Palāsa\n",
      "Processing Weather Data for Record 4 of Set 11 | Yong’an\n",
      "Processing Weather Data for Record 5 of Set 11 | Savannah Bight\n",
      "Processing Weather Data for Record 6 of Set 11 | Nelson Bay\n",
      "Processing Weather Data for Record 7 of Set 11 | Camacupa\n",
      "Processing Weather Data for Record 8 of Set 11 | Jishou\n",
      "Processing Weather Data for Record 9 of Set 11 | Fujin\n",
      "Processing Weather Data for Record 10 of Set 11 | Half Moon Bay\n",
      "Processing Weather Data for Record 11 of Set 11 | Balabac\n",
      "Processing Weather Data for Record 12 of Set 11 | Maputo\n",
      "Processing Weather Data for Record 13 of Set 11 | Virginia Beach\n",
      "Processing Weather Data for Record 14 of Set 11 | Verāval\n",
      "Processing Weather Data for Record 15 of Set 11 | Canto do Buriti\n",
      "Processing Weather Data for Record 16 of Set 11 | Lewistown\n",
      "Processing Weather Data for Record 17 of Set 11 | Esqueda\n",
      "Skipping, not found............\n",
      "Processing Weather Data for Record 18 of Set 11 | Champotón\n",
      "Processing Weather Data for Record 19 of Set 11 | Ternate\n",
      "Skipping, not found............\n",
      "Processing Weather Data for Record 20 of Set 11 | Beruwala\n",
      "Processing Weather Data for Record 21 of Set 11 | Apricena\n",
      "Processing Weather Data for Record 22 of Set 11 | Karratha\n",
      "Processing Weather Data for Record 23 of Set 11 | Naryan-Mar\n",
      "Processing Weather Data for Record 24 of Set 11 | Angoche\n",
      "Processing Weather Data for Record 25 of Set 11 | Labuhan\n",
      "Processing Weather Data for Record 26 of Set 11 | Umm Kaddadah\n",
      "Processing Weather Data for Record 27 of Set 11 | Yanji\n",
      "Processing Weather Data for Record 28 of Set 11 | Kosh-Agach\n",
      "Skipping, not found............\n",
      "Processing Weather Data for Record 29 of Set 11 | Skibbereen\n",
      "Processing Weather Data for Record 30 of Set 11 | Bossier City\n",
      "Processing Weather Data for Record 31 of Set 11 | Shenjiamen\n",
      "Processing Weather Data for Record 32 of Set 11 | Juneau\n",
      "Processing Weather Data for Record 33 of Set 11 | Qiyang\n",
      "Processing Weather Data for Record 34 of Set 11 | Jiaocheng\n",
      "Processing Weather Data for Record 35 of Set 11 | Vao\n",
      "Processing Weather Data for Record 36 of Set 11 | Viedma\n",
      "Processing Weather Data for Record 37 of Set 11 | Valparaíso\n",
      "Processing Weather Data for Record 38 of Set 11 | Kilindoni\n",
      "Processing Weather Data for Record 39 of Set 11 | Paamiut\n",
      "Processing Weather Data for Record 40 of Set 11 | Ostrovnoy\n",
      "Processing Weather Data for Record 41 of Set 11 | Gimli\n",
      "Processing Weather Data for Record 42 of Set 11 | Yuxia\n",
      "Processing Weather Data for Record 43 of Set 11 | Itarema\n",
      "Processing Weather Data for Record 44 of Set 11 | Yerbogachën\n",
      "Processing Weather Data for Record 45 of Set 11 | Eureka\n",
      "Processing Weather Data for Record 46 of Set 11 | Youghal\n",
      "Processing Weather Data for Record 47 of Set 11 | Lanxi\n",
      "Processing Weather Data for Record 48 of Set 11 | Uribia\n",
      "Processing Weather Data for Record 49 of Set 11 | Rio Branco\n",
      "Processing Weather Data for Record 50 of Set 11 | Antalaha\n",
      "Processing Weather Data for Record 1 of Set 12 | Nangal\n",
      "Processing Weather Data for Record 2 of Set 12 | Zhezkazgan\n",
      "Processing Weather Data for Record 3 of Set 12 | Whitehorse\n",
      "Processing Weather Data for Record 4 of Set 12 | Jumla\n",
      "Skipping, not found............\n",
      "Processing Weather Data for Record 5 of Set 12 | Tocopilla\n",
      "Processing Weather Data for Record 6 of Set 12 | Vila\n",
      "Processing Weather Data for Record 7 of Set 12 | Manggar\n",
      "Processing Weather Data for Record 8 of Set 12 | Sai Buri\n"
     ]
    }
   ],
   "source": [
    "print(\"Processing...\")\n",
    "for index,row in weather_df.iterrows():\n",
    "    #set url for api query\n",
    "    query_url = url +row['City'] + '&APPID=' +weather_api_key\n",
    "    \n",
    "    response = requests.get(query_url).json()\n",
    "    \n",
    "    try:\n",
    "        #Message output to nmatch below\n",
    "        print(f'Processing Weather Data for Record {num_tracker} of Set {set_tracker} | {response[\"name\"]}')\n",
    "        \n",
    "        #Load all colled data into weather_df\n",
    "        weather_df.loc[index, 'Lat'] = response['coord']['lat']\n",
    "        weather_df.loc[index, 'Lng'] = response['coord']['lon']\n",
    "        weather_df.loc[index, 'Max Temp'] = response['main']['temp_max']\n",
    "        weather_df.loc[index, 'Humidity'] = response['main']['humidity']\n",
    "        weather_df.loc[index, 'Cloudiness'] = response['clouds']['all']\n",
    "        weather_df.loc[index, 'Wind Speed'] = response['wind']['speed']\n",
    "        weather_df.loc[index, 'Country'] = response['sys']['country']\n",
    "        weather_df.loc[index, 'Date'] = response['dt']\n",
    "        \n",
    "        \n",
    "        #Increment tracker by one so it keeps moving\n",
    "        num_tracker = num_tracker + 1\n",
    "      \n",
    "    except (KeyError, IndexError):\n",
    "        print(\"Skipping, not found............\")\n",
    "    \n",
    "    #If statement to handle the API call limits\n",
    "    if num_tracker == 51:\n",
    "        set_tracker = set_tracker + 1\n",
    "        num_tracker = 1\n",
    "        time.sleep(60)  \n",
    "    "
   ]
  },
  {
   "cell_type": "code",
   "execution_count": null,
   "metadata": {},
   "outputs": [],
   "source": []
  },
  {
   "cell_type": "markdown",
   "metadata": {},
   "source": [
    "### Convert Raw Data to DataFrame\n",
    "* Export the city data into a .csv.\n",
    "* Display the DataFrame"
   ]
  },
  {
   "cell_type": "code",
   "execution_count": 11,
   "metadata": {},
   "outputs": [
    {
     "data": {
      "text/html": [
       "<div>\n",
       "<style scoped>\n",
       "    .dataframe tbody tr th:only-of-type {\n",
       "        vertical-align: middle;\n",
       "    }\n",
       "\n",
       "    .dataframe tbody tr th {\n",
       "        vertical-align: top;\n",
       "    }\n",
       "\n",
       "    .dataframe thead th {\n",
       "        text-align: right;\n",
       "    }\n",
       "</style>\n",
       "<table border=\"1\" class=\"dataframe\">\n",
       "  <thead>\n",
       "    <tr style=\"text-align: right;\">\n",
       "      <th></th>\n",
       "      <th>City</th>\n",
       "      <th>Lat</th>\n",
       "      <th>Lng</th>\n",
       "      <th>Max Temp</th>\n",
       "      <th>Humidity</th>\n",
       "      <th>Cloudiness</th>\n",
       "      <th>Wind Speed</th>\n",
       "      <th>Country</th>\n",
       "      <th>Date</th>\n",
       "    </tr>\n",
       "  </thead>\n",
       "  <tbody>\n",
       "    <tr>\n",
       "      <th>0</th>\n",
       "      <td>goundam</td>\n",
       "      <td>16.4145</td>\n",
       "      <td>-3.6708</td>\n",
       "      <td>86.32</td>\n",
       "      <td>8</td>\n",
       "      <td>66</td>\n",
       "      <td>12.33</td>\n",
       "      <td>ML</td>\n",
       "      <td>1645032406</td>\n",
       "    </tr>\n",
       "    <tr>\n",
       "      <th>1</th>\n",
       "      <td>castro</td>\n",
       "      <td>-24.7911</td>\n",
       "      <td>-50.0119</td>\n",
       "      <td>81.28</td>\n",
       "      <td>47</td>\n",
       "      <td>2</td>\n",
       "      <td>4.99</td>\n",
       "      <td>BR</td>\n",
       "      <td>1645032407</td>\n",
       "    </tr>\n",
       "    <tr>\n",
       "      <th>2</th>\n",
       "      <td>conceicao da barra</td>\n",
       "      <td>-18.5933</td>\n",
       "      <td>-39.7322</td>\n",
       "      <td>84.11</td>\n",
       "      <td>65</td>\n",
       "      <td>99</td>\n",
       "      <td>8.59</td>\n",
       "      <td>BR</td>\n",
       "      <td>1645032245</td>\n",
       "    </tr>\n",
       "    <tr>\n",
       "      <th>3</th>\n",
       "      <td>nouakchott</td>\n",
       "      <td>18.0858</td>\n",
       "      <td>-15.9785</td>\n",
       "      <td>85.93</td>\n",
       "      <td>22</td>\n",
       "      <td>28</td>\n",
       "      <td>15.55</td>\n",
       "      <td>MR</td>\n",
       "      <td>1645032407</td>\n",
       "    </tr>\n",
       "    <tr>\n",
       "      <th>4</th>\n",
       "      <td>asfi</td>\n",
       "      <td>32.2994</td>\n",
       "      <td>-9.2372</td>\n",
       "      <td>66.16</td>\n",
       "      <td>54</td>\n",
       "      <td>3</td>\n",
       "      <td>20.78</td>\n",
       "      <td>MA</td>\n",
       "      <td>1645032408</td>\n",
       "    </tr>\n",
       "  </tbody>\n",
       "</table>\n",
       "</div>"
      ],
      "text/plain": [
       "                 City      Lat      Lng Max Temp Humidity Cloudiness  \\\n",
       "0             goundam  16.4145  -3.6708    86.32        8         66   \n",
       "1              castro -24.7911 -50.0119    81.28       47          2   \n",
       "2  conceicao da barra -18.5933 -39.7322    84.11       65         99   \n",
       "3          nouakchott  18.0858 -15.9785    85.93       22         28   \n",
       "4                asfi  32.2994  -9.2372    66.16       54          3   \n",
       "\n",
       "  Wind Speed Country        Date  \n",
       "0      12.33      ML  1645032406  \n",
       "1       4.99      BR  1645032407  \n",
       "2       8.59      BR  1645032245  \n",
       "3      15.55      MR  1645032407  \n",
       "4      20.78      MA  1645032408  "
      ]
     },
     "execution_count": 11,
     "metadata": {},
     "output_type": "execute_result"
    }
   ],
   "source": [
    "weather_df = weather_df.dropna()\n",
    "\n",
    "weather_df.head()"
   ]
  },
  {
   "cell_type": "code",
   "execution_count": 14,
   "metadata": {},
   "outputs": [
    {
     "data": {
      "text/html": [
       "<div>\n",
       "<style scoped>\n",
       "    .dataframe tbody tr th:only-of-type {\n",
       "        vertical-align: middle;\n",
       "    }\n",
       "\n",
       "    .dataframe tbody tr th {\n",
       "        vertical-align: top;\n",
       "    }\n",
       "\n",
       "    .dataframe thead th {\n",
       "        text-align: right;\n",
       "    }\n",
       "</style>\n",
       "<table border=\"1\" class=\"dataframe\">\n",
       "  <thead>\n",
       "    <tr style=\"text-align: right;\">\n",
       "      <th></th>\n",
       "      <th>City</th>\n",
       "      <th>Lat</th>\n",
       "      <th>Lng</th>\n",
       "      <th>Max Temp</th>\n",
       "      <th>Humidity</th>\n",
       "      <th>Cloudiness</th>\n",
       "      <th>Wind Speed</th>\n",
       "      <th>Country</th>\n",
       "      <th>Date</th>\n",
       "    </tr>\n",
       "  </thead>\n",
       "  <tbody>\n",
       "    <tr>\n",
       "      <th>count</th>\n",
       "      <td>617</td>\n",
       "      <td>617</td>\n",
       "      <td>617</td>\n",
       "      <td>617</td>\n",
       "      <td>617</td>\n",
       "      <td>617</td>\n",
       "      <td>617</td>\n",
       "      <td>617</td>\n",
       "      <td>617</td>\n",
       "    </tr>\n",
       "    <tr>\n",
       "      <th>unique</th>\n",
       "      <td>617</td>\n",
       "      <td>559</td>\n",
       "      <td>558</td>\n",
       "      <td>522</td>\n",
       "      <td>87</td>\n",
       "      <td>96</td>\n",
       "      <td>346</td>\n",
       "      <td>121</td>\n",
       "      <td>288</td>\n",
       "    </tr>\n",
       "    <tr>\n",
       "      <th>top</th>\n",
       "      <td>goundam</td>\n",
       "      <td></td>\n",
       "      <td></td>\n",
       "      <td></td>\n",
       "      <td></td>\n",
       "      <td>100</td>\n",
       "      <td></td>\n",
       "      <td>RU</td>\n",
       "      <td></td>\n",
       "    </tr>\n",
       "    <tr>\n",
       "      <th>freq</th>\n",
       "      <td>1</td>\n",
       "      <td>59</td>\n",
       "      <td>59</td>\n",
       "      <td>59</td>\n",
       "      <td>59</td>\n",
       "      <td>130</td>\n",
       "      <td>59</td>\n",
       "      <td>68</td>\n",
       "      <td>59</td>\n",
       "    </tr>\n",
       "  </tbody>\n",
       "</table>\n",
       "</div>"
      ],
      "text/plain": [
       "           City  Lat  Lng Max Temp Humidity  Cloudiness Wind Speed Country  \\\n",
       "count       617  617  617      617      617         617        617     617   \n",
       "unique      617  559  558      522       87          96        346     121   \n",
       "top     goundam                                     100                 RU   \n",
       "freq          1   59   59       59       59         130         59      68   \n",
       "\n",
       "       Date  \n",
       "count   617  \n",
       "unique  288  \n",
       "top          \n",
       "freq     59  "
      ]
     },
     "execution_count": 14,
     "metadata": {},
     "output_type": "execute_result"
    }
   ],
   "source": [
    "#create a second df with only columns with numerical values\n",
    "weather_df.describe()"
   ]
  },
  {
   "cell_type": "code",
   "execution_count": 20,
   "metadata": {},
   "outputs": [
    {
     "data": {
      "text/html": [
       "<div>\n",
       "<style scoped>\n",
       "    .dataframe tbody tr th:only-of-type {\n",
       "        vertical-align: middle;\n",
       "    }\n",
       "\n",
       "    .dataframe tbody tr th {\n",
       "        vertical-align: top;\n",
       "    }\n",
       "\n",
       "    .dataframe thead th {\n",
       "        text-align: right;\n",
       "    }\n",
       "</style>\n",
       "<table border=\"1\" class=\"dataframe\">\n",
       "  <thead>\n",
       "    <tr style=\"text-align: right;\">\n",
       "      <th></th>\n",
       "      <th>City</th>\n",
       "      <th>Lat</th>\n",
       "      <th>Lng</th>\n",
       "      <th>Max Temp</th>\n",
       "      <th>Humidity</th>\n",
       "      <th>Cloudiness</th>\n",
       "      <th>Wind Speed</th>\n",
       "      <th>Country</th>\n",
       "      <th>Date</th>\n",
       "    </tr>\n",
       "  </thead>\n",
       "  <tbody>\n",
       "    <tr>\n",
       "      <th>0</th>\n",
       "      <td>goundam</td>\n",
       "      <td>16.4145</td>\n",
       "      <td>-3.6708</td>\n",
       "      <td>86.32</td>\n",
       "      <td>8.0</td>\n",
       "      <td>66.0</td>\n",
       "      <td>12.33</td>\n",
       "      <td>ML</td>\n",
       "      <td>1645032406</td>\n",
       "    </tr>\n",
       "    <tr>\n",
       "      <th>1</th>\n",
       "      <td>castro</td>\n",
       "      <td>-24.7911</td>\n",
       "      <td>-50.0119</td>\n",
       "      <td>81.28</td>\n",
       "      <td>47.0</td>\n",
       "      <td>2.0</td>\n",
       "      <td>4.99</td>\n",
       "      <td>BR</td>\n",
       "      <td>1645032407</td>\n",
       "    </tr>\n",
       "    <tr>\n",
       "      <th>2</th>\n",
       "      <td>conceicao da barra</td>\n",
       "      <td>-18.5933</td>\n",
       "      <td>-39.7322</td>\n",
       "      <td>84.11</td>\n",
       "      <td>65.0</td>\n",
       "      <td>99.0</td>\n",
       "      <td>8.59</td>\n",
       "      <td>BR</td>\n",
       "      <td>1645032245</td>\n",
       "    </tr>\n",
       "    <tr>\n",
       "      <th>3</th>\n",
       "      <td>nouakchott</td>\n",
       "      <td>18.0858</td>\n",
       "      <td>-15.9785</td>\n",
       "      <td>85.93</td>\n",
       "      <td>22.0</td>\n",
       "      <td>28.0</td>\n",
       "      <td>15.55</td>\n",
       "      <td>MR</td>\n",
       "      <td>1645032407</td>\n",
       "    </tr>\n",
       "    <tr>\n",
       "      <th>4</th>\n",
       "      <td>asfi</td>\n",
       "      <td>32.2994</td>\n",
       "      <td>-9.2372</td>\n",
       "      <td>66.16</td>\n",
       "      <td>54.0</td>\n",
       "      <td>3.0</td>\n",
       "      <td>20.78</td>\n",
       "      <td>MA</td>\n",
       "      <td>1645032408</td>\n",
       "    </tr>\n",
       "    <tr>\n",
       "      <th>...</th>\n",
       "      <td>...</td>\n",
       "      <td>...</td>\n",
       "      <td>...</td>\n",
       "      <td>...</td>\n",
       "      <td>...</td>\n",
       "      <td>...</td>\n",
       "      <td>...</td>\n",
       "      <td>...</td>\n",
       "      <td>...</td>\n",
       "    </tr>\n",
       "    <tr>\n",
       "      <th>612</th>\n",
       "      <td>tidore</td>\n",
       "      <td>NaN</td>\n",
       "      <td>NaN</td>\n",
       "      <td>NaN</td>\n",
       "      <td>NaN</td>\n",
       "      <td>NaN</td>\n",
       "      <td>NaN</td>\n",
       "      <td></td>\n",
       "      <td></td>\n",
       "    </tr>\n",
       "    <tr>\n",
       "      <th>613</th>\n",
       "      <td>tocopilla</td>\n",
       "      <td>-22.0920</td>\n",
       "      <td>-70.1979</td>\n",
       "      <td>73.53</td>\n",
       "      <td>69.0</td>\n",
       "      <td>23.0</td>\n",
       "      <td>11.03</td>\n",
       "      <td>CL</td>\n",
       "      <td>1645033288</td>\n",
       "    </tr>\n",
       "    <tr>\n",
       "      <th>614</th>\n",
       "      <td>vila</td>\n",
       "      <td>42.0304</td>\n",
       "      <td>-8.1588</td>\n",
       "      <td>47.28</td>\n",
       "      <td>94.0</td>\n",
       "      <td>100.0</td>\n",
       "      <td>4.65</td>\n",
       "      <td>PT</td>\n",
       "      <td>1645033288</td>\n",
       "    </tr>\n",
       "    <tr>\n",
       "      <th>615</th>\n",
       "      <td>manggar</td>\n",
       "      <td>-2.8833</td>\n",
       "      <td>108.2667</td>\n",
       "      <td>80.26</td>\n",
       "      <td>78.0</td>\n",
       "      <td>94.0</td>\n",
       "      <td>2.46</td>\n",
       "      <td>ID</td>\n",
       "      <td>1645033289</td>\n",
       "    </tr>\n",
       "    <tr>\n",
       "      <th>616</th>\n",
       "      <td>sai buri</td>\n",
       "      <td>6.7013</td>\n",
       "      <td>101.6168</td>\n",
       "      <td>80.96</td>\n",
       "      <td>86.0</td>\n",
       "      <td>96.0</td>\n",
       "      <td>11.12</td>\n",
       "      <td>TH</td>\n",
       "      <td>1645033289</td>\n",
       "    </tr>\n",
       "  </tbody>\n",
       "</table>\n",
       "<p>617 rows × 9 columns</p>\n",
       "</div>"
      ],
      "text/plain": [
       "                   City      Lat       Lng  Max Temp  Humidity  Cloudiness  \\\n",
       "0               goundam  16.4145   -3.6708     86.32       8.0        66.0   \n",
       "1                castro -24.7911  -50.0119     81.28      47.0         2.0   \n",
       "2    conceicao da barra -18.5933  -39.7322     84.11      65.0        99.0   \n",
       "3            nouakchott  18.0858  -15.9785     85.93      22.0        28.0   \n",
       "4                  asfi  32.2994   -9.2372     66.16      54.0         3.0   \n",
       "..                  ...      ...       ...       ...       ...         ...   \n",
       "612              tidore      NaN       NaN       NaN       NaN         NaN   \n",
       "613           tocopilla -22.0920  -70.1979     73.53      69.0        23.0   \n",
       "614                vila  42.0304   -8.1588     47.28      94.0       100.0   \n",
       "615             manggar  -2.8833  108.2667     80.26      78.0        94.0   \n",
       "616            sai buri   6.7013  101.6168     80.96      86.0        96.0   \n",
       "\n",
       "     Wind Speed Country        Date  \n",
       "0         12.33      ML  1645032406  \n",
       "1          4.99      BR  1645032407  \n",
       "2          8.59      BR  1645032245  \n",
       "3         15.55      MR  1645032407  \n",
       "4         20.78      MA  1645032408  \n",
       "..          ...     ...         ...  \n",
       "612         NaN                      \n",
       "613       11.03      CL  1645033288  \n",
       "614        4.65      PT  1645033288  \n",
       "615        2.46      ID  1645033289  \n",
       "616       11.12      TH  1645033289  \n",
       "\n",
       "[617 rows x 9 columns]"
      ]
     },
     "execution_count": 20,
     "metadata": {},
     "output_type": "execute_result"
    }
   ],
   "source": [
    "non_numeric_cols = [\"City\", \"Country\", \"Date\"]\n",
    "\n",
    "for col in weather_df.columns:\n",
    "    if(col not in non_numeric_cols):\n",
    "        weather_df[col] = pd.to_numeric(weather_df[col])\n",
    "        \n",
    "weather_df.dtypes\n",
    "weather_df\n",
    "\n"
   ]
  },
  {
   "cell_type": "markdown",
   "metadata": {},
   "source": [
    "## Inspect the data and remove the cities where the humidity > 100%.\n",
    "----\n",
    "Skip this step if there are no cities that have humidity > 100%. "
   ]
  },
  {
   "cell_type": "code",
   "execution_count": 21,
   "metadata": {},
   "outputs": [
    {
     "data": {
      "text/plain": [
       "count    558.000000\n",
       "mean      72.385305\n",
       "std       22.498201\n",
       "min        7.000000\n",
       "25%       59.000000\n",
       "50%       77.000000\n",
       "75%       90.000000\n",
       "max      100.000000\n",
       "Name: Humidity, dtype: float64"
      ]
     },
     "execution_count": 21,
     "metadata": {},
     "output_type": "execute_result"
    }
   ],
   "source": [
    "#check if there are any cities with >100% humidity\n",
    "max_humidity = weather_df[\"Humidity\"].describe(include = \"all\")\n",
    "max_humidity"
   ]
  },
  {
   "cell_type": "code",
   "execution_count": 22,
   "metadata": {},
   "outputs": [],
   "source": [
    "#  Get the indices of cities that have humidity over 100%.\n",
    "#-------See above output, no humidity level above 100%-----"
   ]
  },
  {
   "cell_type": "code",
   "execution_count": 23,
   "metadata": {},
   "outputs": [
    {
     "data": {
      "text/html": [
       "<div>\n",
       "<style scoped>\n",
       "    .dataframe tbody tr th:only-of-type {\n",
       "        vertical-align: middle;\n",
       "    }\n",
       "\n",
       "    .dataframe tbody tr th {\n",
       "        vertical-align: top;\n",
       "    }\n",
       "\n",
       "    .dataframe thead th {\n",
       "        text-align: right;\n",
       "    }\n",
       "</style>\n",
       "<table border=\"1\" class=\"dataframe\">\n",
       "  <thead>\n",
       "    <tr style=\"text-align: right;\">\n",
       "      <th></th>\n",
       "      <th>City</th>\n",
       "      <th>Lat</th>\n",
       "      <th>Lng</th>\n",
       "      <th>Max Temp</th>\n",
       "      <th>Humidity</th>\n",
       "      <th>Cloudiness</th>\n",
       "      <th>Wind Speed</th>\n",
       "      <th>Country</th>\n",
       "      <th>Date</th>\n",
       "    </tr>\n",
       "  </thead>\n",
       "  <tbody>\n",
       "    <tr>\n",
       "      <th>0</th>\n",
       "      <td>goundam</td>\n",
       "      <td>16.4145</td>\n",
       "      <td>-3.6708</td>\n",
       "      <td>86.32</td>\n",
       "      <td>8.0</td>\n",
       "      <td>66.0</td>\n",
       "      <td>12.33</td>\n",
       "      <td>ML</td>\n",
       "      <td>1645032406</td>\n",
       "    </tr>\n",
       "    <tr>\n",
       "      <th>1</th>\n",
       "      <td>castro</td>\n",
       "      <td>-24.7911</td>\n",
       "      <td>-50.0119</td>\n",
       "      <td>81.28</td>\n",
       "      <td>47.0</td>\n",
       "      <td>2.0</td>\n",
       "      <td>4.99</td>\n",
       "      <td>BR</td>\n",
       "      <td>1645032407</td>\n",
       "    </tr>\n",
       "    <tr>\n",
       "      <th>2</th>\n",
       "      <td>conceicao da barra</td>\n",
       "      <td>-18.5933</td>\n",
       "      <td>-39.7322</td>\n",
       "      <td>84.11</td>\n",
       "      <td>65.0</td>\n",
       "      <td>99.0</td>\n",
       "      <td>8.59</td>\n",
       "      <td>BR</td>\n",
       "      <td>1645032245</td>\n",
       "    </tr>\n",
       "    <tr>\n",
       "      <th>3</th>\n",
       "      <td>nouakchott</td>\n",
       "      <td>18.0858</td>\n",
       "      <td>-15.9785</td>\n",
       "      <td>85.93</td>\n",
       "      <td>22.0</td>\n",
       "      <td>28.0</td>\n",
       "      <td>15.55</td>\n",
       "      <td>MR</td>\n",
       "      <td>1645032407</td>\n",
       "    </tr>\n",
       "    <tr>\n",
       "      <th>4</th>\n",
       "      <td>asfi</td>\n",
       "      <td>32.2994</td>\n",
       "      <td>-9.2372</td>\n",
       "      <td>66.16</td>\n",
       "      <td>54.0</td>\n",
       "      <td>3.0</td>\n",
       "      <td>20.78</td>\n",
       "      <td>MA</td>\n",
       "      <td>1645032408</td>\n",
       "    </tr>\n",
       "  </tbody>\n",
       "</table>\n",
       "</div>"
      ],
      "text/plain": [
       "                 City      Lat      Lng  Max Temp  Humidity  Cloudiness  \\\n",
       "0             goundam  16.4145  -3.6708     86.32       8.0        66.0   \n",
       "1              castro -24.7911 -50.0119     81.28      47.0         2.0   \n",
       "2  conceicao da barra -18.5933 -39.7322     84.11      65.0        99.0   \n",
       "3          nouakchott  18.0858 -15.9785     85.93      22.0        28.0   \n",
       "4                asfi  32.2994  -9.2372     66.16      54.0         3.0   \n",
       "\n",
       "   Wind Speed Country        Date  \n",
       "0       12.33      ML  1645032406  \n",
       "1        4.99      BR  1645032407  \n",
       "2        8.59      BR  1645032245  \n",
       "3       15.55      MR  1645032407  \n",
       "4       20.78      MA  1645032408  "
      ]
     },
     "execution_count": 23,
     "metadata": {},
     "output_type": "execute_result"
    }
   ],
   "source": [
    "weather_df.head()"
   ]
  },
  {
   "cell_type": "markdown",
   "metadata": {},
   "source": [
    "## Plotting the Data\n",
    "* Use proper labeling of the plots using plot titles (including date of analysis) and axes labels.\n",
    "* Save the plotted figures as .pngs."
   ]
  },
  {
   "cell_type": "markdown",
   "metadata": {},
   "source": [
    "## Latitude vs. Temperature Plot"
   ]
  },
  {
   "cell_type": "code",
   "execution_count": 26,
   "metadata": {
    "scrolled": true
   },
   "outputs": [
    {
     "data": {
      "image/png": "[encoded data removed]",
      "text/plain": [
       "<Figure size 432x288 with 1 Axes>"
      ]
     },
     "metadata": {
      "needs_background": "light"
     },
     "output_type": "display_data"
    }
   ],
   "source": [
    "#Create a scatter plot comparing latitude and temperature\n",
    "plt.scatter(weather_df[\"Lat\"], weather_df[\"Max Temp\"], marker=\"o\")\n",
    "\n",
    "plt.title(f'City Latitude vs. Max Temperature {time.strftime(\"%m/%d/%Y\")}')\n",
    "plt.ylabel(\"Max Temperature (F)\")\n",
    "plt.xlabel(\"Latitude\")\n",
    "plt.grid(True)\n",
    "\n",
    "# Save the figure\n",
    "plt.savefig(\"../output_data/Fig1.png\")\n",
    "\n",
    "# Show plot\n",
    "plt.show()"
   ]
  },
  {
   "cell_type": "code",
   "execution_count": null,
   "metadata": {},
   "outputs": [],
   "source": [
    "#Notes on plot: Based on the current seasons in both hemispheres, it appears based on the plot that the lowest temperatures are occuring highest above the equator currently, while those cities farthest south of the equator are currently the warmest.\n",
    "#The plot also shows a fairly consistent temperature distribution around the equator, which is to be expected."
   ]
  },
  {
   "cell_type": "markdown",
   "metadata": {},
   "source": [
    "## Latitude vs. Humidity Plot"
   ]
  },
  {
   "cell_type": "code",
   "execution_count": 28,
   "metadata": {},
   "outputs": [
    {
     "data": {
      "image/png": "[encoded data removed]",
      "text/plain": [
       "<Figure size 432x288 with 1 Axes>"
      ]
     },
     "metadata": {
      "needs_background": "light"
     },
     "output_type": "display_data"
    }
   ],
   "source": [
    "#Create a scatter plot comparing latitude and humidity\n",
    "plt.scatter(weather_df[\"Lat\"], weather_df[\"Humidity\"], marker=\"o\")\n",
    "\n",
    "plt.title(f'City Latitude vs. Humidity {time.strftime(\"%m/%d/%Y\")}')\n",
    "plt.ylabel(\"Humidity (%)\")\n",
    "plt.xlabel(\"Latitude\")\n",
    "plt.grid(True)\n",
    "\n",
    "# Save the figure\n",
    "plt.savefig(\"../output_data/Fig2.png\")\n",
    "\n",
    "# Show plot\n",
    "plt.show()"
   ]
  },
  {
   "cell_type": "code",
   "execution_count": null,
   "metadata": {},
   "outputs": [],
   "source": [
    "#Notes on plot: Based on the distribution of the scated plot, it appears that humidity of 60% or above is more frequent than lower humidity levels.\n",
    "#The plot also shows that a linear regression will be needed to determine any correlation between latitude and humidity."
   ]
  },
  {
   "cell_type": "markdown",
   "metadata": {},
   "source": [
    "## Latitude vs. Cloudiness Plot"
   ]
  },
  {
   "cell_type": "code",
   "execution_count": 29,
   "metadata": {},
   "outputs": [
    {
     "data": {
      "image/png": "[encoded data removed]",
      "text/plain": [
       "<Figure size 432x288 with 1 Axes>"
      ]
     },
     "metadata": {
      "needs_background": "light"
     },
     "output_type": "display_data"
    }
   ],
   "source": [
    "#Create a scatter plot comparing latitude and cloudiness\n",
    "plt.scatter(weather_df[\"Lat\"], weather_df[\"Cloudiness\"], marker=\"o\")\n",
    "\n",
    "plt.title(f'City Latitude vs. Cloudiness {time.strftime(\"%m/%d/%Y\")}')\n",
    "plt.ylabel(\"Cloudiness (%)\")\n",
    "plt.xlabel(\"Latitude\")\n",
    "plt.grid(True)\n",
    "\n",
    "# Save the figure\n",
    "plt.savefig(\"../output_data/Fig3.png\")\n",
    "\n",
    "# Show plot\n",
    "plt.show()"
   ]
  },
  {
   "cell_type": "code",
   "execution_count": null,
   "metadata": {},
   "outputs": [],
   "source": [
    "#Notes on plot: Very similar to the humidity vs. latitude plot, the distribution seems scattered upon first view, which makes sense since weather patterns are hard to predict on a consistent basis\n",
    "#The plot also shows that a linear regression will be needed to determine any correlation between latitude and cloudiness."
   ]
  },
  {
   "cell_type": "markdown",
   "metadata": {},
   "source": [
    "## Latitude vs. Wind Speed Plot"
   ]
  },
  {
   "cell_type": "code",
   "execution_count": 41,
   "metadata": {},
   "outputs": [
    {
     "data": {
      "image/png": "[encoded data removed]",
      "text/plain": [
       "<Figure size 432x288 with 1 Axes>"
      ]
     },
     "metadata": {
      "needs_background": "light"
     },
     "output_type": "display_data"
    }
   ],
   "source": [
    "#Create a scatter plot comparing latitude and wind speed\n",
    "\n",
    "weather_df.dropna(inplace=True)\n",
    "plt.scatter(weather_df[\"Lat\"], weather_df[\"Wind Speed\"], marker=\"o\")\n",
    "\n",
    "plt.title(f'City Latitude vs. Wind Speed {time.strftime(\"%m/%d/%Y\")}')\n",
    "plt.ylabel(\"Wind Speed (mph)\")\n",
    "plt.xlabel(\"Latitude\")\n",
    "plt.grid(True)\n",
    "\n",
    "# Save the figure\n",
    "plt.savefig(\"../output_data/Fig4.png\")\n",
    "\n",
    "# Show plot\n",
    "plt.show()"
   ]
  },
  {
   "cell_type": "code",
   "execution_count": null,
   "metadata": {},
   "outputs": [],
   "source": [
    "#Notes on plot: Based on the plot, it appears that the significant majority of cities across the world have wind speeds of less than 20mph\n",
    "#The plot also shows that a linear regression will be needed to determine any correlation between latitude and wind speed."
   ]
  },
  {
   "cell_type": "markdown",
   "metadata": {},
   "source": [
    "## Linear Regression"
   ]
  },
  {
   "cell_type": "code",
   "execution_count": 24,
   "metadata": {},
   "outputs": [],
   "source": []
  },
  {
   "cell_type": "markdown",
   "metadata": {},
   "source": [
    "####  Northern Hemisphere - Max Temp vs. Latitude Linear Regression"
   ]
  },
  {
   "cell_type": "code",
   "execution_count": 51,
   "metadata": {},
   "outputs": [
    {
     "data": {
      "image/png": "[encoded data removed]",
      "text/plain": [
       "<Figure size 432x288 with 1 Axes>"
      ]
     },
     "metadata": {
      "needs_background": "light"
     },
     "output_type": "display_data"
    },
    {
     "data": {
      "text/plain": [
       "<Figure size 432x288 with 0 Axes>"
      ]
     },
     "metadata": {},
     "output_type": "display_data"
    }
   ],
   "source": [
    "\n",
    "plt.scatter(weather_df[\"Lat\"], weather_df[\"Max Temp\"], marker=\"o\")\n",
    "\n",
    "plt.title(f'City Latitude (Northern Hemisphere) vs. Max Temperature {time.strftime(\"%m/%d/%Y\")}')\n",
    "plt.ylabel(\"Max Temperature (F)\")\n",
    "plt.xlabel(\"Latitude\")\n",
    "plt.xlim(0,80)\n",
    "plt.grid(True)\n",
    "\n",
    "#Add linear regression on top of scatter plot\n",
    "m, b = np.polyfit(weather_df[\"Lat\"],weather_df[\"Max Temp\"], 1,)\n",
    "plt.plot(x, m*x + b)\n",
    "\n",
    "# Show plot\n",
    "plt.show()\n",
    "\n",
    "\n",
    "# Save the figure\n",
    "plt.savefig(\"../output_data/Fig5.png\")"
   ]
  },
  {
   "cell_type": "markdown",
   "metadata": {},
   "source": [
    "####  Southern Hemisphere - Max Temp vs. Latitude Linear Regression"
   ]
  },
  {
   "cell_type": "code",
   "execution_count": 46,
   "metadata": {},
   "outputs": [
    {
     "data": {
      "image/png": "[encoded data removed]",
      "text/plain": [
       "<Figure size 432x288 with 1 Axes>"
      ]
     },
     "metadata": {
      "needs_background": "light"
     },
     "output_type": "display_data"
    },
    {
     "data": {
      "text/plain": [
       "<Figure size 432x288 with 0 Axes>"
      ]
     },
     "metadata": {},
     "output_type": "display_data"
    }
   ],
   "source": [
    "\n",
    "plt.scatter(weather_df[\"Lat\"], weather_df[\"Max Temp\"], marker=\"o\")\n",
    "\n",
    "plt.title(f'City Latitude (Southern Hemisphere) vs. Max Temperature {time.strftime(\"%m/%d/%Y\")}')\n",
    "plt.ylabel(\"Max Temperature (F)\")\n",
    "plt.xlabel(\"Latitude\")\n",
    "plt.xlim(-60,0)\n",
    "plt.ylim(40,120)\n",
    "plt.grid(True)\n",
    "\n",
    "#Add linear regression on top of scatter plot\n",
    "m, b = np.polyfit(weather_df[\"Lat\"],weather_df[\"Max Temp\"], 1)\n",
    "plt.plot(x, m*x + b)\n",
    "\n",
    "# Show plot\n",
    "plt.show()\n",
    "\n",
    "\n",
    "# Save the figure\n",
    "plt.savefig(\"../output_data/Fig6.png\")"
   ]
  },
  {
   "cell_type": "code",
   "execution_count": null,
   "metadata": {},
   "outputs": [],
   "source": [
    "#Notes on Hemisphere vs. Max Temp.:\n",
    "#Northern hemisphere: since the northern hemisphere is currently in winter,  the linear regression line shows that the farther away from the equator, the colder the max temperature\n",
    "#Southern hemisphere: since the southern hemisphere is currently in summer,  the linear regression line shows that the to the equator, the colder the max temperature"
   ]
  },
  {
   "cell_type": "markdown",
   "metadata": {},
   "source": [
    "####  Northern Hemisphere - Humidity (%) vs. Latitude Linear Regression"
   ]
  },
  {
   "cell_type": "code",
   "execution_count": 47,
   "metadata": {},
   "outputs": [
    {
     "data": {
      "image/png": "[encoded data removed]",
      "text/plain": [
       "<Figure size 432x288 with 1 Axes>"
      ]
     },
     "metadata": {
      "needs_background": "light"
     },
     "output_type": "display_data"
    },
    {
     "data": {
      "text/plain": [
       "<Figure size 432x288 with 0 Axes>"
      ]
     },
     "metadata": {},
     "output_type": "display_data"
    }
   ],
   "source": [
    "\n",
    "plt.scatter(weather_df[\"Lat\"], weather_df[\"Humidity\"], marker=\"o\")\n",
    "\n",
    "plt.title(f'City Latitude (Northern Hemisphere) vs. Humidity (%) {time.strftime(\"%m/%d/%Y\")}')\n",
    "plt.ylabel(\"Humidity (%)\")\n",
    "plt.xlabel(\"Latitude\")\n",
    "plt.xlim(0,80)\n",
    "plt.grid(True)\n",
    "\n",
    "#Add linear regression on top of scatter plot\n",
    "m, b = np.polyfit(weather_df[\"Lat\"],weather_df[\"Humidity\"], 1)\n",
    "plt.plot(x, m*x + b)\n",
    "\n",
    "# Show plot\n",
    "plt.show()\n",
    "\n",
    "\n",
    "# Save the figure\n",
    "plt.savefig(\"../output_data/Fig7.png\")"
   ]
  },
  {
   "cell_type": "markdown",
   "metadata": {},
   "source": [
    "####  Southern Hemisphere - Humidity (%) vs. Latitude Linear Regression"
   ]
  },
  {
   "cell_type": "code",
   "execution_count": 48,
   "metadata": {},
   "outputs": [
    {
     "data": {
      "image/png": "[encoded data removed]",
      "text/plain": [
       "<Figure size 432x288 with 1 Axes>"
      ]
     },
     "metadata": {
      "needs_background": "light"
     },
     "output_type": "display_data"
    },
    {
     "data": {
      "text/plain": [
       "<Figure size 432x288 with 0 Axes>"
      ]
     },
     "metadata": {},
     "output_type": "display_data"
    }
   ],
   "source": [
    "\n",
    "plt.scatter(weather_df[\"Lat\"], weather_df[\"Humidity\"], marker=\"o\")\n",
    "\n",
    "plt.title(f'City Latitude (Southern Hemisphere) vs. Humidity (%) {time.strftime(\"%m/%d/%Y\")}')\n",
    "plt.ylabel(\"Humidity (%)\")\n",
    "plt.xlabel(\"Latitude\")\n",
    "plt.xlim(-60,0)\n",
    "plt.ylim(0,100)\n",
    "plt.grid(True)\n",
    "\n",
    "#Add linear regression on top of scatter plot\n",
    "m, b = np.polyfit(weather_df[\"Lat\"],weather_df[\"Max Temp\"], 1)\n",
    "plt.plot(x, m*x + b)\n",
    "\n",
    "# Show plot\n",
    "plt.show()\n",
    "\n",
    "\n",
    "# Save the figure\n",
    "plt.savefig(\"../output_data/Fig8.png\")"
   ]
  },
  {
   "cell_type": "code",
   "execution_count": null,
   "metadata": {},
   "outputs": [],
   "source": [
    "#Northern hemisphere: based on the linear regression, it appears that humidity slightly increases as you get farther from the equator\n",
    "#Southern hemisphere: based on the linear regression, it appears that humidity decreases as you get closer to the equator"
   ]
  },
  {
   "cell_type": "markdown",
   "metadata": {},
   "source": [
    "####  Northern Hemisphere - Cloudiness (%) vs. Latitude Linear Regression"
   ]
  },
  {
   "cell_type": "code",
   "execution_count": 56,
   "metadata": {},
   "outputs": [
    {
     "data": {
      "image/png": "[encoded data removed]",
      "text/plain": [
       "<Figure size 432x288 with 1 Axes>"
      ]
     },
     "metadata": {
      "needs_background": "light"
     },
     "output_type": "display_data"
    },
    {
     "data": {
      "text/plain": [
       "<Figure size 432x288 with 0 Axes>"
      ]
     },
     "metadata": {},
     "output_type": "display_data"
    }
   ],
   "source": [
    "\n",
    "plt.scatter(weather_df[\"Lat\"], weather_df[\"Cloudiness\"], marker=\"o\")\n",
    "\n",
    "plt.title(f'City Latitude (Northern Hemisphere) vs. Cloudiness (%) {time.strftime(\"%m/%d/%Y\")}')\n",
    "plt.ylabel(\"Cloudiness (%)\")\n",
    "plt.xlabel(\"Latitude\")\n",
    "plt.xlim(0,100)\n",
    "plt.grid(True)\n",
    "\n",
    "#Add linear regression on top of scatter plot\n",
    "m, b = np.polyfit(weather_df[\"Lat\"],weather_df[\"Cloudiness\"], 1)\n",
    "plt.plot(x, m*x + b)\n",
    "\n",
    "# Show plot\n",
    "plt.show()\n",
    "\n",
    "\n",
    "# Save the figure\n",
    "plt.savefig(\"../output_data/Fig9.png\")"
   ]
  },
  {
   "cell_type": "markdown",
   "metadata": {},
   "source": [
    "####  Southern Hemisphere - Cloudiness (%) vs. Latitude Linear Regression"
   ]
  },
  {
   "cell_type": "code",
   "execution_count": 52,
   "metadata": {},
   "outputs": [
    {
     "data": {
      "image/png": "[encoded data removed]",
      "text/plain": [
       "<Figure size 432x288 with 1 Axes>"
      ]
     },
     "metadata": {
      "needs_background": "light"
     },
     "output_type": "display_data"
    },
    {
     "data": {
      "text/plain": [
       "<Figure size 432x288 with 0 Axes>"
      ]
     },
     "metadata": {},
     "output_type": "display_data"
    }
   ],
   "source": [
    "\n",
    "plt.scatter(weather_df[\"Lat\"], weather_df[\"Cloudiness\"], marker=\"o\")\n",
    "\n",
    "plt.title(f'City Latitude (Southern Hemisphere) vs. Cloudiness (%) {time.strftime(\"%m/%d/%Y\")}')\n",
    "plt.ylabel(\"Cloudiness (%)\")\n",
    "plt.xlabel(\"Latitude\")\n",
    "plt.xlim(-60,0)\n",
    "plt.ylim(0,100)\n",
    "plt.grid(True)\n",
    "\n",
    "#Add linear regression on top of scatter plot\n",
    "m, b = np.polyfit(weather_df[\"Lat\"],weather_df[\"Cloudiness\"], 1)\n",
    "plt.plot(x, m*x + b)\n",
    "\n",
    "# Show plot\n",
    "plt.show()\n",
    "\n",
    "\n",
    "# Save the figure\n",
    "plt.savefig(\"../output_data/Fig10.png\")"
   ]
  },
  {
   "cell_type": "code",
   "execution_count": null,
   "metadata": {},
   "outputs": [],
   "source": [
    "#Northern hemisphere: based on the linear regression, it appears that cloudiness slightly increases as you get farther from the equator\n",
    "#Southern hemisphere: based on the linear regression, it appears that cloudiness slightly increases as you get closer to the equator"
   ]
  },
  {
   "cell_type": "markdown",
   "metadata": {},
   "source": [
    "####  Northern Hemisphere - Wind Speed (mph) vs. Latitude Linear Regression"
   ]
  },
  {
   "cell_type": "code",
   "execution_count": 55,
   "metadata": {},
   "outputs": [
    {
     "data": {
      "image/png": "[encoded data removed]",
      "text/plain": [
       "<Figure size 432x288 with 1 Axes>"
      ]
     },
     "metadata": {
      "needs_background": "light"
     },
     "output_type": "display_data"
    },
    {
     "data": {
      "text/plain": [
       "<Figure size 432x288 with 0 Axes>"
      ]
     },
     "metadata": {},
     "output_type": "display_data"
    }
   ],
   "source": [
    "\n",
    "plt.scatter(weather_df[\"Lat\"], weather_df[\"Wind Speed\"], marker=\"o\")\n",
    "\n",
    "plt.title(f'City Latitude (Northern Hemisphere) vs. Wind Speed (mph) {time.strftime(\"%m/%d/%Y\")}')\n",
    "plt.ylabel(\"Wind Speed (mph)\")\n",
    "plt.xlabel(\"Latitude\")\n",
    "plt.xlim(0,100)\n",
    "plt.ylim(0,40)\n",
    "plt.grid(True)\n",
    "\n",
    "#Add linear regression on top of scatter plot\n",
    "m, b = np.polyfit(weather_df[\"Lat\"],weather_df[\"Wind Speed\"], 1)\n",
    "plt.plot(x, m*x + b)\n",
    "\n",
    "# Show plot\n",
    "plt.show()\n",
    "\n",
    "\n",
    "# Save the figure\n",
    "plt.savefig(\"../output_data/Fig11.png\")"
   ]
  },
  {
   "cell_type": "markdown",
   "metadata": {},
   "source": [
    "####  Southern Hemisphere - Wind Speed (mph) vs. Latitude Linear Regression"
   ]
  },
  {
   "cell_type": "code",
   "execution_count": 57,
   "metadata": {},
   "outputs": [
    {
     "data": {
      "image/png": "[encoded data removed]",
      "text/plain": [
       "<Figure size 432x288 with 1 Axes>"
      ]
     },
     "metadata": {
      "needs_background": "light"
     },
     "output_type": "display_data"
    },
    {
     "data": {
      "text/plain": [
       "<Figure size 432x288 with 0 Axes>"
      ]
     },
     "metadata": {},
     "output_type": "display_data"
    }
   ],
   "source": [
    "\n",
    "plt.scatter(weather_df[\"Lat\"], weather_df[\"Wind Speed\"], marker=\"o\")\n",
    "\n",
    "plt.title(f'City Latitude (Southern Hemisphere) vs. Wind Speed (mph) {time.strftime(\"%m/%d/%Y\")}')\n",
    "plt.ylabel(\"Wind Speed (mph)\")\n",
    "plt.xlabel(\"Latitude\")\n",
    "plt.xlim(-60,0)\n",
    "plt.ylim(0,40)\n",
    "plt.grid(True)\n",
    "\n",
    "#Add linear regression on top of scatter plot\n",
    "m, b = np.polyfit(weather_df[\"Lat\"],weather_df[\"Wind Speed\"], 1)\n",
    "plt.plot(x, m*x + b)\n",
    "\n",
    "# Show plot\n",
    "plt.show()\n",
    "\n",
    "\n",
    "# Save the figure\n",
    "plt.savefig(\"../output_data/Fig12.png\")"
   ]
  },
  {
   "cell_type": "code",
   "execution_count": null,
   "metadata": {},
   "outputs": [],
   "source": [
    "#Northern hemisphere: based on the linear regression, it appears that wind speed remains pretty constant across the hemisphere\n",
    "#Southern hemisphere: based on the linear regression, it appears that wind speed remains pretty constant across the hemisphere"
   ]
  }
 ],
 "metadata": {
  "anaconda-cloud": {},
  "kernel_info": {
   "name": "python3"
  },
  "kernelspec": {
   "display_name": "Python 3 (ipykernel)",
   "language": "python",
   "name": "python3"
  },
  "language_info": {
   "codemirror_mode": {
    "name": "ipython",
    "version": 3
   },
   "file_extension": ".py",
   "mimetype": "text/x-python",
   "name": "python",
   "nbconvert_exporter": "python",
   "pygments_lexer": "ipython3",
   "version": "3.9.7"
  },
  "latex_envs": {
   "LaTeX_envs_menu_present": true,
   "autoclose": false,
   "autocomplete": true,
   "bibliofile": "biblio.bib",
   "cite_by": "apalike",
   "current_citInitial": 1,
   "eqLabelWithNumbers": true,
   "eqNumInitial": 1,
   "hotkeys": {
    "equation": "Ctrl-E",
    "itemize": "Ctrl-I"
   },
   "labels_anchors": false,
   "latex_user_defs": false,
   "report_style_numbering": false,
   "user_envs_cfg": false
  },
  "nteract": {
   "version": "0.12.3"
  }
 },
 "nbformat": 4,
 "nbformat_minor": 2
}
